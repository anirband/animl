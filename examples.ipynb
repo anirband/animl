{
 "cells": [
  {
   "cell_type": "markdown",
   "metadata": {},
   "source": [
    "# Decision tree visualization"
   ]
  },
  {
   "cell_type": "code",
   "execution_count": 1,
   "metadata": {},
   "outputs": [],
   "source": [
    "import IPython, graphviz, re\n",
    "from io import StringIO\n",
    "from IPython.display import Image\n",
    "import numpy as np\n",
    "import pandas as pd\n",
    "import math\n",
    "from sklearn import tree\n",
    "from sklearn.datasets import load_boston, load_iris\n",
    "from collections import defaultdict"
   ]
  },
  {
   "cell_type": "code",
   "execution_count": 4,
   "metadata": {},
   "outputs": [
    {
     "name": "stdout",
     "output_type": "stream",
     "text": [
      "(5@6.9 (12@14.4 (7@1.4 (12@10.8 pred=50.0,n=4 pred=27.9,n=1) (5@6.5 (12@7.6 pred=24.0,n=43 pred=21.0,n=152) (9@269.0 pred=30.2,n=17 pred=26.2,n=38))) (4@0.6 (0@0.6 (6@60.5 pred=22.1,n=7 pred=19.2,n=32) (5@6.8 pred=15.5,n=28 pred=27.5,n=1)) (12@19.6 (0@12.2 pred=15.8,n=47 pred=11.2,n=4) (9@551.5 pred=14.4,n=10 pred=9.8,n=46)))) (5@7.4 (4@0.7 (7@1.9 (3@0.5 pred=41.3,n=1 pred=50.0,n=1) (4@0.5 pred=34.2,n=27 pred=30.0,n=14)) (6@94.9 pred=10.4,n=1 (0@13.9 pred=17.8,n=1 pred=15.0,n=1))) (8@16.0 (10@14.8 (5@7.7 pred=44.7,n=4 pred=49.7,n=10) (11@385.5 pred=47.2,n=5 pred=41.9,n=10)) pred=21.9,n=1)))\n"
     ]
    }
   ],
   "source": [
    "from animl.trees import *\n",
    "\n",
    "regr = tree.DecisionTreeRegressor(max_depth=5, random_state=666)\n",
    "boston = load_boston()\n",
    "\n",
    "X_train = pd.DataFrame(boston.data, columns=boston.feature_names)\n",
    "y_train = boston.target\n",
    "\n",
    "regr = regr.fit(X_train, y_train)\n",
    "\n",
    "dtree = ShadowDecTree(regr, X_train, feature_names=X_train.columns)\n",
    "print(dtree)"
   ]
  }
 ],
 "metadata": {
  "kernelspec": {
   "display_name": "Python 3",
   "language": "python",
   "name": "python3"
  },
  "language_info": {
   "codemirror_mode": {
    "name": "ipython",
    "version": 3
   },
   "file_extension": ".py",
   "mimetype": "text/x-python",
   "name": "python",
   "nbconvert_exporter": "python",
   "pygments_lexer": "ipython3",
   "version": "3.6.5"
  },
  "toc": {
   "colors": {
    "hover_highlight": "#DAA520",
    "navigate_num": "#000000",
    "navigate_text": "#333333",
    "running_highlight": "#FF0000",
    "selected_highlight": "#FFD700",
    "sidebar_border": "#EEEEEE",
    "wrapper_background": "#FFFFFF"
   },
   "moveMenuLeft": true,
   "nav_menu": {
    "height": "30px",
    "width": "252px"
   },
   "navigate_menu": true,
   "number_sections": true,
   "sideBar": true,
   "threshold": 4,
   "toc_cell": false,
   "toc_section_display": "block",
   "toc_window_display": false,
   "widenNotebook": false
  }
 },
 "nbformat": 4,
 "nbformat_minor": 2
}
