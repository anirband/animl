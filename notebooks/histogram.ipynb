{
 "cells": [
  {
   "cell_type": "code",
   "execution_count": 88,
   "metadata": {},
   "outputs": [],
   "source": [
    "%load_ext autoreload\n",
    "%autoreload 2\n",
    "%matplotlib inline"
   ]
  },
  {
   "cell_type": "code",
   "execution_count": 2,
   "metadata": {},
   "outputs": [],
   "source": [
    "import IPython, graphviz, re\n",
    "from io import StringIO\n",
    "from IPython.display import Image\n",
    "import numpy as np\n",
    "import pandas as pd\n",
    "import math\n",
    "from sklearn import tree\n",
    "from sklearn.datasets import load_boston, load_iris\n",
    "from collections import defaultdict\n",
    "import string\n",
    "import re\n",
    "import numpy as np\n",
    "import matplotlib.pyplot as plt"
   ]
  },
  {
   "cell_type": "code",
   "execution_count": 3,
   "metadata": {},
   "outputs": [
    {
     "data": {
      "image/png": "[encoded data removed]",
      "text/plain": [
       "<Figure size 57.6x360 with 1 Axes>"
      ]
     },
     "metadata": {},
     "output_type": "display_data"
    }
   ],
   "source": [
    "y = np.array([16.2, 18., 14.3, 18.4, 15.6, 18.1, 17.4, 17.1, 13.3, 17.8, 14., 14.4, 13.4, 15.6\n",
    ", 11.8, 13.8, 15.6, 14.6, 17.8, 15.4, 19.4, 17., 15.6, 13.1, 17.8, 16.8, 13.8, 13.8\n",
    ", 13.9, 13.3, 13.1, 10.2, 10.9, 11.3, 12.3, 8.8, 7.2, 10.5, 7.4, 10.2, 11.5, 15.1\n",
    ", 23.2, 9.7, 13.8, 12.7, 13.1, 12.5, 8.5, 5., 6.3, 5.6, 7.2, 12.1, 8.3, 8.5\n",
    ", 5., 11.9, 7., 7.2, 7.5, 10.4, 8.8, 8.4, 16.7, 14.2, 13.4, 8.3, 10.9, 11.\n",
    ", 9.5, 14.3, 11.7, 13.4, 9.6, 8.7, 8.4, 12.8, 10.5, 17.1, 18.4, 15.4, 10.8, 11.8\n",
    ", 14.9, 12.6, 14.1, 13., 13.4, 15.2, 16.1, 14.9, 14.1, 12.7, 13.5, 14.9, 20., 16.4\n",
    ", 17.7, 19., 16.7, 12., 14.6, 15.2, 7., 8.1, 13.6])\n",
    "\n",
    "fig, ax = plt.subplots(1, 1, figsize=(.8,5))\n",
    "ax.xaxis.set_visible(False)\n",
    "ax.set_xticks([])\n",
    "#ax.set_xlim(0,.2)\n",
    "\n",
    "y_range = (3,50)\n",
    "ax.set_ylim(y_range)\n",
    "ax.tick_params(axis='both', which='major', labelsize=18)\n",
    "meanprops = {'linewidth':1.2,'linestyle':'-','color':'black'}\n",
    "bp =ax.boxplot(y, notch=False, medianprops={'linewidth':0}, meanprops=meanprops,\n",
    "           widths=[.9], showmeans=True, meanline=True, sym='', patch_artist=True)\n",
    "BLUE = \"#D9E6F5\"\n",
    "YELLOW = \"#fefecd\"\n",
    "for patch in bp['boxes']:\n",
    "    patch.set(facecolor=BLUE)       \n",
    "plt.show()"
   ]
  },
  {
   "cell_type": "code",
   "execution_count": 18,
   "metadata": {},
   "outputs": [],
   "source": [
    "np.random.seed(10)\n",
    "y = np.append(np.zeros(50), np.ones(50))\n",
    "x = np.random.randint(0,100, 100)"
   ]
  },
  {
   "cell_type": "code",
   "execution_count": 158,
   "metadata": {},
   "outputs": [
    {
     "data": {
      "text/plain": [
       "array([ 9, 15, 64, 28, 89, 93, 29,  8, 73,  0, 40, 36, 16, 11, 54, 88, 62,\n",
       "       33, 72, 78, 49, 51, 54, 77, 69, 13, 25, 13, 92, 86, 30, 30, 89, 12,\n",
       "       65, 31, 57, 36, 27, 18, 93, 77, 22, 23, 94, 11, 28, 74, 88,  9, 15,\n",
       "       18, 80, 71, 88, 11, 17, 46,  7, 75, 28, 33, 84, 96, 88, 44,  5,  4,\n",
       "       71, 88, 88, 50, 54, 34, 15, 77, 88, 15,  6, 85, 22, 11, 12, 92, 96,\n",
       "       62, 57, 79, 42, 57, 97, 50, 45, 40, 89, 73, 37,  0, 18, 23])"
      ]
     },
     "execution_count": 158,
     "metadata": {},
     "output_type": "execute_result"
    }
   ],
   "source": [
    "x"
   ]
  },
  {
   "cell_type": "code",
   "execution_count": 159,
   "metadata": {},
   "outputs": [
    {
     "data": {
      "text/plain": [
       "array([0., 0., 0., 0., 0., 0., 0., 0., 0., 0., 0., 0., 0., 0., 0., 0., 0.,\n",
       "       0., 0., 0., 0., 0., 0., 0., 0., 0., 0., 0., 0., 0., 0., 0., 0., 0.,\n",
       "       0., 0., 0., 0., 0., 0., 0., 0., 0., 0., 0., 0., 0., 0., 0., 0., 1.,\n",
       "       1., 1., 1., 1., 1., 1., 1., 1., 1., 1., 1., 1., 1., 1., 1., 1., 1.,\n",
       "       1., 1., 1., 1., 1., 1., 1., 1., 1., 1., 1., 1., 1., 1., 1., 1., 1.,\n",
       "       1., 1., 1., 1., 1., 1., 1., 1., 1., 1., 1., 1., 1., 1., 1.])"
      ]
     },
     "execution_count": 159,
     "metadata": {},
     "output_type": "execute_result"
    }
   ],
   "source": [
    "y"
   ]
  },
  {
   "cell_type": "code",
   "execution_count": 45,
   "metadata": {},
   "outputs": [],
   "source": [
    "df = pd.DataFrame(data={'x':x, 'y':y})"
   ]
  },
  {
   "cell_type": "code",
   "execution_count": 166,
   "metadata": {},
   "outputs": [
    {
     "data": {
      "text/plain": [
       "[0.0, 1.0]"
      ]
     },
     "execution_count": 166,
     "metadata": {},
     "output_type": "execute_result"
    }
   ],
   "source": [
    "list(set(list(y)))"
   ]
  },
  {
   "cell_type": "code",
   "execution_count": 167,
   "metadata": {},
   "outputs": [],
   "source": [
    "se = [0,1]"
   ]
  },
  {
   "cell_type": "code",
   "execution_count": 168,
   "metadata": {},
   "outputs": [
    {
     "data": {
      "text/plain": [
       "[array([ 9, 15, 64, 28, 89, 93, 29,  8, 73,  0, 40, 36, 16, 11, 54, 88, 62,\n",
       "        33, 72, 78, 49, 51, 54, 77, 69, 13, 25, 13, 92, 86, 30, 30, 89, 12,\n",
       "        65, 31, 57, 36, 27, 18, 93, 77, 22, 23, 94, 11, 28, 74, 88,  9]),\n",
       " array([15, 18, 80, 71, 88, 11, 17, 46,  7, 75, 28, 33, 84, 96, 88, 44,  5,\n",
       "         4, 71, 88, 88, 50, 54, 34, 15, 77, 88, 15,  6, 85, 22, 11, 12, 92,\n",
       "        96, 62, 57, 79, 42, 57, 97, 50, 45, 40, 89, 73, 37,  0, 18, 23])]"
      ]
     },
     "execution_count": 168,
     "metadata": {},
     "output_type": "execute_result"
    }
   ],
   "source": [
    "[x[y==i] for i in se]"
   ]
  },
  {
   "cell_type": "code",
   "execution_count": 157,
   "metadata": {},
   "outputs": [
    {
     "data": {
      "image/png": "[encoded data removed]",
      "text/plain": [
       "<Figure size 360x360 with 1 Axes>"
      ]
     },
     "metadata": {},
     "output_type": "display_data"
    }
   ],
   "source": [
    "BLUE: '#4575b4'\n",
    "YELLOW = \"#fbfbd0\" # \"#fbfbd0\" # \"#FBFEB0\"\n",
    "GREEN = \"#cfe2d4\"\n",
    "DARKBLUE = '#313695'\n",
    "DARKGREEN = '#006400'\n",
    "\n",
    "\n",
    "fig, ax = plt.subplots(1, 1, figsize=(5,5))\n",
    "# ax.xaxis.set_visible(False)\n",
    "ax.yaxis.set_visible(False)\n",
    "ax.spines['top'].set_visible(False)\n",
    "ax.spines['right'].set_visible(False)\n",
    "ax.spines['left'].set_visible(False)\n",
    "\n",
    "hist = ax.hist([df.x[df.y == np.unique(y)[0]],\n",
    "                df.x[df.y == np.unique(y)[1]]],\n",
    "               color=[DARKBLUE, DARKGREEN])\n",
    "ax.axvline(x=20, c='black')\n",
    "ax.set_xticks([30])\n",
    "ax.tick_params(direction='out', length=8, width=3, colors='black', labelsize=15)"
   ]
  },
  {
   "cell_type": "code",
   "execution_count": 102,
   "metadata": {},
   "outputs": [
    {
     "data": {
      "text/plain": [
       "([array([4., 8., 7., 6., 1., 5., 3., 6., 2., 8.]),\n",
       "  array([ 5.,  9.,  3.,  3.,  5.,  5.,  1.,  5.,  4., 10.])],\n",
       " array([ 0. ,  9.7, 19.4, 29.1, 38.8, 48.5, 58.2, 67.9, 77.6, 87.3, 97. ]),\n",
       " <a list of 2 Lists of Patches objects>)"
      ]
     },
     "execution_count": 102,
     "metadata": {},
     "output_type": "execute_result"
    }
   ],
   "source": [
    "hist"
   ]
  },
  {
   "cell_type": "code",
   "execution_count": 105,
   "metadata": {},
   "outputs": [
    {
     "data": {
      "text/plain": [
       "[array([4., 8., 7., 6., 1., 5., 3., 6., 2., 8.]),\n",
       " array([ 5.,  9.,  3.,  3.,  5.,  5.,  1.,  5.,  4., 10.])]"
      ]
     },
     "execution_count": 105,
     "metadata": {},
     "output_type": "execute_result"
    }
   ],
   "source": [
    "hist[0]"
   ]
  },
  {
   "cell_type": "code",
   "execution_count": 106,
   "metadata": {},
   "outputs": [
    {
     "data": {
      "text/plain": [
       "array([ 0. ,  9.7, 19.4, 29.1, 38.8, 48.5, 58.2, 67.9, 77.6, 87.3, 97. ])"
      ]
     },
     "execution_count": 106,
     "metadata": {},
     "output_type": "execute_result"
    }
   ],
   "source": [
    "hist[1]"
   ]
  },
  {
   "cell_type": "code",
   "execution_count": null,
   "metadata": {},
   "outputs": [],
   "source": []
  }
 ],
 "metadata": {
  "kernelspec": {
   "display_name": "Python 3",
   "language": "python",
   "name": "python3"
  },
  "language_info": {
   "codemirror_mode": {
    "name": "ipython",
    "version": 3
   },
   "file_extension": ".py",
   "mimetype": "text/x-python",
   "name": "python",
   "nbconvert_exporter": "python",
   "pygments_lexer": "ipython3",
   "version": "3.7.0"
  }
 },
 "nbformat": 4,
 "nbformat_minor": 2
}
