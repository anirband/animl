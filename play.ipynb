{
 "cells": [
  {
   "cell_type": "code",
   "execution_count": 1,
   "metadata": {},
   "outputs": [],
   "source": [
    "import IPython, graphviz, re\n",
    "from io import StringIO\n",
    "from IPython.display import Image\n",
    "import numpy as np\n",
    "import pandas as pd\n",
    "import math\n",
    "from sklearn import tree\n",
    "from sklearn.datasets import load_boston, load_iris\n",
    "from collections import defaultdict\n",
    "import string\n",
    "import re\n",
    "import numpy as np\n",
    "import matplotlib.pyplot as plt"
   ]
  },
  {
   "cell_type": "code",
   "execution_count": 2,
   "metadata": {},
   "outputs": [],
   "source": [
    "# inspired by Mark Needham's blog\n",
    "# https://markhneedham.com/blog/2017/09/23/python-3-create-sparklines-using-matplotlib/\n",
    "\n",
    "#def sparkline(data, filename, fill=False, figsize=(4, 0.25), **kwags):\n",
    "\"\"\"\n",
    "Save a sparkline image\n",
    "\"\"\"\n",
    "\n",
    "boston = load_boston()"
   ]
  },
  {
   "cell_type": "code",
   "execution_count": 3,
   "metadata": {
    "scrolled": true
   },
   "outputs": [
    {
     "data": {
      "image/png": "[encoded data removed]",
      "text/plain": [
       "<Figure size 720x144 with 1 Axes>"
      ]
     },
     "metadata": {},
     "output_type": "display_data"
    }
   ],
   "source": [
    "data = boston.data\n",
    "feature_names = boston.feature_names\n",
    "target = boston.target\n",
    "\n",
    "fig, ax = plt.subplots(1, 1, figsize=(10,2))\n",
    "ax.scatter(data[:,0], target, s=2, alpha=.5)\n",
    "# ax.scatter(data[:,1], target, s=2)\n",
    "# ax.scatter(data[:,2], target, s=2)\n",
    "for k,v in ax.spines.items():\n",
    "    v.set_visible(False)\n",
    "ax.set_xticks([])\n",
    "ax.set_yticks([])\n",
    "\n",
    "plt.show()"
   ]
  },
  {
   "cell_type": "code",
   "execution_count": 4,
   "metadata": {
    "scrolled": true
   },
   "outputs": [
    {
     "data": {
      "image/png": "[encoded data removed]",
      "text/plain": [
       "<Figure size 720x144 with 1 Axes>"
      ]
     },
     "metadata": {},
     "output_type": "display_data"
    }
   ],
   "source": [
    "fig, ax = plt.subplots(1, 1, figsize=(10,2))\n",
    "ax.scatter(data[:,1], target, s=2)\n",
    "for k,v in ax.spines.items():\n",
    "    v.set_visible(False)\n",
    "ax.set_xticks([])\n",
    "ax.set_yticks([])\n",
    "\n",
    "plt.show()"
   ]
  },
  {
   "cell_type": "code",
   "execution_count": 73,
   "metadata": {
    "scrolled": false
   },
   "outputs": [
    {
     "data": {
      "image/png": "[encoded data removed]",
      "text/plain": [
       "<Figure size 432x144 with 1 Axes>"
      ]
     },
     "metadata": {},
     "output_type": "display_data"
    }
   ],
   "source": [
    "from animl.trees import *\n",
    "from animl.viz.trees import *\n",
    "\n",
    "regr = tree.DecisionTreeRegressor(max_depth=4, random_state=666)\n",
    "regr.fit(data, target)\n",
    "shadow_tree = ShadowDecTree(regr, data, feature_names=feature_names)\n",
    "node_split_viz(shadow_tree.root.right, data, target, filename=None, target_name=\"price\", figsize=(6,2))\n",
    "\n",
    "#Image(open(\"/tmp/t.png\",\"rb\").read())"
   ]
  },
  {
   "cell_type": "code",
   "execution_count": null,
   "metadata": {},
   "outputs": [],
   "source": [
    "fig, ax = plt.subplots(1, 1, figsize=(5,1))\n",
    "X = data[:,2]\n",
    "ax.scatter(X, target, s=2, alpha=.5)\n",
    "for k,v in ax.spines.items():\n",
    "    v.set_visible(False)\n",
    "ax.set_xticks([])\n",
    "ax.set_yticks([])\n",
    "\n",
    "ax.plot([min(X),split],[np.mean(left),np.mean(left)],'--',color='#444443', linewidth=1)\n",
    "ax.plot([split,split],[np.mean(left),np.mean(right)],'--',color='#444443', linewidth=1)\n",
    "ax.plot([split,max(X)],[np.mean(right),np.mean(right)],'--',color='#444443', linewidth=1)\n",
    "\n",
    "plt.show()"
   ]
  },
  {
   "cell_type": "code",
   "execution_count": null,
   "metadata": {},
   "outputs": [],
   "source": [
    "feature = root.feature()\n",
    "print(feature)\n",
    "print(split)\n",
    "left = target[data[:,feature] < split]\n",
    "right = target[data[:,feature] >= split]\n",
    "print(np.mean(left), np.mean(right))\n",
    "\n",
    "fig, ax = plt.subplots(1, 1, figsize=(5,1))\n",
    "X = data[:,2]\n",
    "ax.scatter(X, target, s=2, alpha=.5)\n",
    "for k,v in ax.spines.items():\n",
    "    v.set_visible(False)\n",
    "ax.set_xticks([])\n",
    "ax.set_yticks([])\n",
    "\n",
    "ax.plot([min(X),split],[np.mean(left),np.mean(left)],'--',color='#444443', linewidth=1)\n",
    "ax.plot([split,split],[np.mean(left),np.mean(right)],'--',color='#444443', linewidth=1)\n",
    "ax.plot([split,max(X)],[np.mean(right),np.mean(right)],'--',color='#444443', linewidth=1)\n",
    "\n",
    "plt.show()"
   ]
  }
 ],
 "metadata": {
  "kernelspec": {
   "display_name": "Python 3",
   "language": "python",
   "name": "python3"
  },
  "language_info": {
   "codemirror_mode": {
    "name": "ipython",
    "version": 3
   },
   "file_extension": ".py",
   "mimetype": "text/x-python",
   "name": "python",
   "nbconvert_exporter": "python",
   "pygments_lexer": "ipython3",
   "version": "3.6.5"
  },
  "toc": {
   "colors": {
    "hover_highlight": "#DAA520",
    "navigate_num": "#000000",
    "navigate_text": "#333333",
    "running_highlight": "#FF0000",
    "selected_highlight": "#FFD700",
    "sidebar_border": "#EEEEEE",
    "wrapper_background": "#FFFFFF"
   },
   "moveMenuLeft": true,
   "nav_menu": {
    "height": "12px",
    "width": "252px"
   },
   "navigate_menu": true,
   "number_sections": true,
   "sideBar": true,
   "threshold": 4,
   "toc_cell": false,
   "toc_section_display": "block",
   "toc_window_display": false,
   "widenNotebook": false
  }
 },
 "nbformat": 4,
 "nbformat_minor": 2
}
