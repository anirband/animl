{
 "cells": [
  {
   "cell_type": "code",
   "execution_count": 1,
   "metadata": {},
   "outputs": [],
   "source": [
    "import IPython, graphviz, re\n",
    "from io import StringIO\n",
    "from IPython.display import Image\n",
    "import numpy as np\n",
    "import pandas as pd\n",
    "import math\n",
    "from sklearn import tree\n",
    "from sklearn.datasets import load_boston, load_iris\n",
    "from collections import defaultdict\n",
    "import string\n",
    "import re\n",
    "import numpy as np\n",
    "import matplotlib.pyplot as plt"
   ]
  },
  {
   "cell_type": "code",
   "execution_count": 2,
   "metadata": {},
   "outputs": [],
   "source": [
    "# inspired by Mark Needham's blog\n",
    "# https://markhneedham.com/blog/2017/09/23/python-3-create-sparklines-using-matplotlib/\n",
    "\n",
    "#def sparkline(data, filename, fill=False, figsize=(4, 0.25), **kwags):\n",
    "\"\"\"\n",
    "Save a sparkline image\n",
    "\"\"\"\n",
    "\n",
    "boston = load_boston()"
   ]
  },
  {
   "cell_type": "code",
   "execution_count": 62,
   "metadata": {
    "scrolled": true
   },
   "outputs": [
    {
     "data": {
      "image/png": "[encoded data removed]",
      "text/plain": [
       "<Figure size 720x144 with 1 Axes>"
      ]
     },
     "metadata": {},
     "output_type": "display_data"
    }
   ],
   "source": [
    "data = boston.data\n",
    "feature_names = boston.feature_names\n",
    "target = boston.target\n",
    "\n",
    "fig, ax = plt.subplots(1, 1, figsize=(10,2))\n",
    "ax.scatter(data[:,0], target, s=2, alpha=.5)\n",
    "# ax.scatter(data[:,1], target, s=2)\n",
    "# ax.scatter(data[:,2], target, s=2)\n",
    "for k,v in ax.spines.items():\n",
    "    v.set_visible(False)\n",
    "ax.set_xticks([])\n",
    "ax.set_yticks([])\n",
    "\n",
    "plt.show()"
   ]
  },
  {
   "cell_type": "code",
   "execution_count": 4,
   "metadata": {
    "scrolled": true
   },
   "outputs": [
    {
     "data": {
      "image/png": "[encoded data removed]",
      "text/plain": [
       "<Figure size 720x144 with 1 Axes>"
      ]
     },
     "metadata": {},
     "output_type": "display_data"
    }
   ],
   "source": [
    "fig, ax = plt.subplots(1, 1, figsize=(10,2))\n",
    "ax.scatter(data[:,1], target, s=2)\n",
    "for k,v in ax.spines.items():\n",
    "    v.set_visible(False)\n",
    "ax.set_xticks([])\n",
    "ax.set_yticks([])\n",
    "\n",
    "plt.show()"
   ]
  },
  {
   "cell_type": "code",
   "execution_count": 61,
   "metadata": {
    "scrolled": true
   },
   "outputs": [
    {
     "data": {
      "image/png": "[encoded data removed]",
      "text/plain": [
       "<Figure size 57.6x360 with 1 Axes>"
      ]
     },
     "metadata": {},
     "output_type": "display_data"
    }
   ],
   "source": [
    "y = np.array([16.2, 18., 14.3, 18.4, 15.6, 18.1, 17.4, 17.1, 13.3, 17.8, 14., 14.4, 13.4, 15.6\n",
    ", 11.8, 13.8, 15.6, 14.6, 17.8, 15.4, 19.4, 17., 15.6, 13.1, 17.8, 16.8, 13.8, 13.8\n",
    ", 13.9, 13.3, 13.1, 10.2, 10.9, 11.3, 12.3, 8.8, 7.2, 10.5, 7.4, 10.2, 11.5, 15.1\n",
    ", 23.2, 9.7, 13.8, 12.7, 13.1, 12.5, 8.5, 5., 6.3, 5.6, 7.2, 12.1, 8.3, 8.5\n",
    ", 5., 11.9, 7., 7.2, 7.5, 10.4, 8.8, 8.4, 16.7, 14.2, 13.4, 8.3, 10.9, 11.\n",
    ", 9.5, 14.3, 11.7, 13.4, 9.6, 8.7, 8.4, 12.8, 10.5, 17.1, 18.4, 15.4, 10.8, 11.8\n",
    ", 14.9, 12.6, 14.1, 13., 13.4, 15.2, 16.1, 14.9, 14.1, 12.7, 13.5, 14.9, 20., 16.4\n",
    ", 17.7, 19., 16.7, 12., 14.6, 15.2, 7., 8.1, 13.6])\n",
    "\n",
    "fig, ax = plt.subplots(1, 1, figsize=(.8,5))\n",
    "ax.xaxis.set_visible(False)\n",
    "ax.set_xticks([])\n",
    "#ax.set_xlim(0,.2)\n",
    "\n",
    "y_range = (3,50)\n",
    "ax.set_ylim(y_range)\n",
    "ax.tick_params(axis='both', which='major', labelsize=18)\n",
    "meanprops = {'linewidth':1.2,'linestyle':'-','color':'black'}\n",
    "bp =ax.boxplot(y, notch=False, medianprops={'linewidth':0}, meanprops=meanprops,\n",
    "           widths=[.9], showmeans=True, meanline=True, sym='', patch_artist=True)\n",
    "BLUE = \"#D9E6F5\"\n",
    "YELLOW = \"#fefecd\"\n",
    "for patch in bp['boxes']:\n",
    "    patch.set(facecolor=BLUE)       \n",
    "plt.show()"
   ]
  },
  {
   "cell_type": "code",
   "execution_count": 17,
   "metadata": {},
   "outputs": [
    {
     "data": {
      "image/png": "[encoded data removed]",
      "text/plain": [
       "<Figure size 57.6x360 with 1 Axes>"
      ]
     },
     "metadata": {},
     "output_type": "display_data"
    }
   ],
   "source": [
    "import seaborn as sns\n",
    "\n",
    "fig, ax = plt.subplots(1, 1, figsize=(.8,5))\n",
    "sns.set(style=\"white\")\n",
    "ax.set_ylim(3,50)\n",
    "#ax.set_ylim('', fontsize=28, fontname=\"Arial)\n",
    "#plt.xticks(fontsize=38)\n",
    "plt.tick_params(axis='both', which='major', labelsize=18)\n",
    "ax = sns.boxplot(y=y, color='#fefecd', ax=ax, linewidth=1, sym='')"
   ]
  }
 ],
 "metadata": {
  "kernelspec": {
   "display_name": "Python 3",
   "language": "python",
   "name": "python3"
  },
  "language_info": {
   "codemirror_mode": {
    "name": "ipython",
    "version": 3
   },
   "file_extension": ".py",
   "mimetype": "text/x-python",
   "name": "python",
   "nbconvert_exporter": "python",
   "pygments_lexer": "ipython3",
   "version": "3.6.5"
  },
  "toc": {
   "nav_menu": {
    "height": "12px",
    "width": "252px"
   },
   "number_sections": true,
   "sideBar": true,
   "skip_h1_title": false,
   "toc_cell": false,
   "toc_position": {},
   "toc_section_display": "block",
   "toc_window_display": false
  }
 },
 "nbformat": 4,
 "nbformat_minor": 2
}
