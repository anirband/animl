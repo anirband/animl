{
 "cells": [
  {
   "cell_type": "code",
   "execution_count": 1,
   "metadata": {},
   "outputs": [],
   "source": [
    "from animl.trees import *\n",
    "from animl.viz.trees import *\n",
    "from IPython.display import Image, display_svg\n",
    "\n",
    "regr = tree.DecisionTreeRegressor(max_depth=3)\n",
    "boston = load_boston()\n",
    "\n",
    "X_train = boston.data\n",
    "y_train = boston.target\n",
    "regr = regr.fit(X_train, y_train)\n",
    "\n",
    "viz = dtreeviz(regr, X_train, y_train, target_name='price',\n",
    "               feature_names=boston.feature_names)\n",
    "print(type(viz))\n",
    "viz"
   ]
  },
  {
   "cell_type": "code",
   "execution_count": null,
   "metadata": {
    "scrolled": true
   },
   "outputs": [],
   "source": [
    "IPython.display.SVG(\"\"\"\n",
    "<svg xmlns=\"http://www.w3.org/2000/svg\"\n",
    "  xmlns:xlink=\"http://www.w3.org/1999/xlink\">\n",
    "  <svg x=\"10\">\n",
    "    <rect x=\"10\" y=\"10\" height=\"100\" width=\"100\"\n",
    "        style=\"stroke:#ff0000; fill: #0000ff\"/>\n",
    "  </svg>\n",
    "  <svg x=\"200\">\n",
    "    <rect x=\"10\" y=\"10\" height=\"100\" width=\"100\"\n",
    "        style=\"stroke:#009900; fill: #00cc00\"/>\n",
    "  </svg>\n",
    "</svg>\n",
    "\"\"\")"
   ]
  },
  {
   "cell_type": "code",
   "execution_count": null,
   "metadata": {},
   "outputs": [],
   "source": [
    "display(IPython.display.SVG(\"/tmp/foo.svg\"))"
   ]
  }
 ],
 "metadata": {
  "kernelspec": {
   "display_name": "Python 3",
   "language": "python",
   "name": "python3"
  },
  "language_info": {
   "codemirror_mode": {
    "name": "ipython",
    "version": 3
   },
   "file_extension": ".py",
   "mimetype": "text/x-python",
   "name": "python",
   "nbconvert_exporter": "python",
   "pygments_lexer": "ipython3",
   "version": "3.6.5"
  },
  "toc": {
   "base_numbering": 1,
   "nav_menu": {},
   "number_sections": true,
   "sideBar": true,
   "skip_h1_title": false,
   "title_cell": "Table of Contents",
   "title_sidebar": "Contents",
   "toc_cell": false,
   "toc_position": {},
   "toc_section_display": true,
   "toc_window_display": false
  }
 },
 "nbformat": 4,
 "nbformat_minor": 2
}
